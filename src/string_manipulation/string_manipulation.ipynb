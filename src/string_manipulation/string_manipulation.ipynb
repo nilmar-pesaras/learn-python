{
 "cells": [
  {
   "cell_type": "code",
   "execution_count": 1,
   "metadata": {},
   "outputs": [
    {
     "name": "stdout",
     "output_type": "stream",
     "text": [
      "reverse_string: god yzal eht revo spmuj xof nworb kciuq ehT\n",
      "count_vowels: 11\n",
      "is_palindrome: False\n"
     ]
    }
   ],
   "source": [
    "# Basic Problem\n",
    "\n",
    "# Problem 1\n",
    "# 1. Write a program that reverses a string.\n",
    "# 2. Create a function that counts vowels in a string.\n",
    "# 3. Write a program that checks if a string is a palindrome.\n",
    "\n",
    "def reverse_string(string_input) -> str:\n",
    "    return string_input[::-1]\n",
    "\n",
    "\n",
    "def count_vowels(\n",
    "    string_input,\n",
    ") -> int:  # this function counts the number of vowels in a string\n",
    "    vowels = \"aeiouAEIOU\"\n",
    "    return sum(1 for char in string_input if char in vowels)\n",
    "\n",
    "\n",
    "def is_palindrome(\n",
    "    string_input,\n",
    ") -> bool:  # this function checks if a string is a palindrome\n",
    "    return string_input == string_input[::-1]\n",
    "\n",
    "\n",
    "input_string: str = \"The quick brown fox jumps over the lazy dog\"\n",
    "\n",
    "print(f\"reverse_string: {reverse_string(input_string)}\")\n",
    "print(f\"count_vowels: {count_vowels(input_string)}\")\n",
    "print(f\"is_palindrome: {is_palindrome(input_string)}\")\n",
    "\n"
   ]
  },
  {
   "cell_type": "code",
   "execution_count": 2,
   "metadata": {},
   "outputs": [
    {
     "name": "stdout",
     "output_type": "stream",
     "text": [
      "alternate_case: ThE QuIcK BrOwN FoX JuMpS OvEr tHe lAzY DoG\n"
     ]
    }
   ],
   "source": [
    "# Problem 2\n",
    "# Create a function that alternates the case of each character in a string.\n",
    "\n",
    "\n",
    "def alternate_case(string_input) -> str:\n",
    "    result: str = \"\"\n",
    "    for i, char in enumerate(string_input):\n",
    "        if i % 2 == 0:\n",
    "            result += char.upper()\n",
    "        else:\n",
    "            result += char.lower()\n",
    "    return result\n",
    "\n",
    "\n",
    "input_string: str = \"The quick brown fox jumps over the lazy dog\"\n",
    "\n",
    "print(f\"alternate_case: {alternate_case(input_string)}\")\n"
   ]
  },
  {
   "cell_type": "code",
   "execution_count": 3,
   "metadata": {},
   "outputs": [
    {
     "name": "stdout",
     "output_type": "stream",
     "text": [
      "remove_punctuation: The quick brown fox jumps over the lazy dog\n"
     ]
    }
   ],
   "source": [
    "# Problem 3\n",
    "# Create a function that removes all punctuation from a string.\n",
    "\n",
    "import string\n",
    "def remove_punctuation(string_input) -> str:\n",
    "    return string_input.translate(str.maketrans(\"\", \"\", string.punctuation))\n",
    "\n",
    "\n",
    "input_string: str = \"The quick brown fox jumps over the lazy dog\"\n",
    "print(f\"remove_punctuation: {remove_punctuation(input_string)}\")\n"
   ]
  }
 ],
 "metadata": {
  "kernelspec": {
   "display_name": ".venv",
   "language": "python",
   "name": "python3"
  },
  "language_info": {
   "codemirror_mode": {
    "name": "ipython",
    "version": 3
   },
   "file_extension": ".py",
   "mimetype": "text/x-python",
   "name": "python",
   "nbconvert_exporter": "python",
   "pygments_lexer": "ipython3",
   "version": "3.13.1"
  }
 },
 "nbformat": 4,
 "nbformat_minor": 2
}
